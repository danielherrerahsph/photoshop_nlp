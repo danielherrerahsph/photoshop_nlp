{
 "cells": [
  {
   "cell_type": "code",
   "execution_count": 14,
   "metadata": {},
   "outputs": [],
   "source": [
    "import praw\n",
    "from reddit_keys import credentials\n",
    "\n",
    "reddit = praw.Reddit(client_id = credentials['client_id'],\n",
    "                     client_secret =  credentials['client_secret'],\n",
    "                     user_agent = credentials['user_agent']\n",
    "                     )"
   ]
  },
  {
   "cell_type": "code",
   "execution_count": 46,
   "metadata": {},
   "outputs": [],
   "source": [
    "# Access a subreddit\n",
    "subreddit = reddit.subreddit(\"photoshop\")\n",
    "\n",
    "# Notes: Subreddit instances created by passing in name of subreddit\n",
    "# Subreddit has methods hot, new, controversial, rising, top --> calls such as subreddit.hot() return listingGenerator, which must be looped through to view\n",
    "\n",
    "# Submissions have attributes title, score, id, url \n",
    "\n",
    "# PRAW objects include  Comment, Message, Redditor, or Submission,\n"
   ]
  },
  {
   "cell_type": "code",
   "execution_count": 55,
   "metadata": {},
   "outputs": [
    {
     "name": "stdout",
     "output_type": "stream",
     "text": [
      "Adobe Releases Firefly and Photoshop Generative Fill Out of Beta https://www.reddit.com/r/photoshop/comments/16hmlmg/adobe_releases_firefly_and_photoshop_generative/\n",
      "The Rumbling is happing again........ https://i.redd.it/f9t7pqetp34c1.png\n",
      "Best weekend .......... https://i.redd.it/m3uri0am474c1.jpg\n",
      "could not complete the request because it is not the right type of document https://www.reddit.com/r/photoshop/comments/18a9kbb/could_not_complete_the_request_because_it_is_not/\n",
      "Cannot get print to look anything close to the original. https://i.redd.it/rqto4smek54c1.jpeg\n",
      "Photoshop is top slow https://www.reddit.com/r/photoshop/comments/189ymkz/photoshop_is_top_slow/\n",
      "Opinions on my works? https://www.reddit.com/r/photoshop/comments/18a3pcx/opinions_on_my_works/\n",
      "How to remove the inset icon on my mask? https://i.redd.it/d1nm4e1zc54c1.jpg\n",
      "Trouble with vanishing point https://www.reddit.com/r/photoshop/comments/18a318j/trouble_with_vanishing_point/\n",
      "Need help solving a problem with my team's HD texture pack. https://i.redd.it/a40c2f5x754c1.png\n",
      "Bit of advise needed if possible for Xmas gift https://i.redd.it/1r0e4h27d34c1.jpeg\n",
      "Something looks off about the player. What is it, and how can I fix it? https://i.redd.it/7l6osi3uy44c1.png\n",
      "Learning from Speed art is impossible https://www.reddit.com/r/photoshop/comments/18a12ca/learning_from_speed_art_is_impossible/\n",
      "adjust space between words but not letters? https://www.reddit.com/r/photoshop/comments/189yh7r/adjust_space_between_words_but_not_letters/\n",
      "Not all letters changing font https://www.reddit.com/r/photoshop/comments/189xa31/not_all_letters_changing_font/\n",
      "How do you guys deal with webp picture format ? https://www.reddit.com/r/photoshop/comments/189wdh4/how_do_you_guys_deal_with_webp_picture_format/\n",
      "Where can I learn more about generative AI to create posters? https://www.reddit.com/r/photoshop/comments/189vg23/where_can_i_learn_more_about_generative_ai_to/\n",
      "Custom prints for t-shirts https://i.redd.it/anb57fbwi44c1.jpg\n",
      "Any idea on how to clear up this old photo? https://i.redd.it/s8ud3se4my3c1.jpeg\n",
      "Best place to buy cool filters/presets for Photoshop Elements 15 https://www.reddit.com/r/photoshop/comments/189uro6/best_place_to_buy_cool_filterspresets_for/\n"
     ]
    }
   ],
   "source": [
    "import requests \n",
    "\n",
    "for post in subreddit.hot(limit=20):\n",
    "    # if 'adobe' in post.url or 'How' in post.url:\n",
    "        print(post.title, post.url)\n",
    "        # response = requests.get(post.url)\n"
   ]
  }
 ],
 "metadata": {
  "kernelspec": {
   "display_name": "base",
   "language": "python",
   "name": "python3"
  },
  "language_info": {
   "codemirror_mode": {
    "name": "ipython",
    "version": 3
   },
   "file_extension": ".py",
   "mimetype": "text/x-python",
   "name": "python",
   "nbconvert_exporter": "python",
   "pygments_lexer": "ipython3",
   "version": "3.9.12"
  },
  "orig_nbformat": 4
 },
 "nbformat": 4,
 "nbformat_minor": 2
}
